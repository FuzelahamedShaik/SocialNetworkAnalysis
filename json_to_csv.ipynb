{
 "cells": [
  {
   "cell_type": "code",
   "execution_count": 116,
   "id": "523f1237",
   "metadata": {},
   "outputs": [],
   "source": [
    "import pandas as pd\n",
    "import json"
   ]
  },
  {
   "cell_type": "code",
   "execution_count": 148,
   "id": "486ecb91",
   "metadata": {},
   "outputs": [],
   "source": [
    "file_list = ['gossipcop_fake_output_raw_id.jl','gossipcop_real_output_raw_id.jl','poitifact_fake_output_raw_id.jl','poitifact_real_output_raw_id.jl']\n",
    "file_list_csv = []\n",
    "for i in file_list:\n",
    "    df = pd.read_json(i, lines=True)\n",
    "    data = pd.DataFrame()\n",
    "    created_at = []\n",
    "    user_id_str = []\n",
    "    id_str = []\n",
    "    lang = []\n",
    "    location = []\n",
    "    description = []\n",
    "    full_text = []\n",
    "    user_screen_name = []\n",
    "    user_name = []\n",
    "    followers_count = []\n",
    "    normal_followers_count = []\n",
    "    fast_followers_count = []\n",
    "    favourites_count =[]\n",
    "    friends_count = []\n",
    "    media_count = []\n",
    "    statuses_count = []\n",
    "    retweeted = []\n",
    "    retweet_count = []\n",
    "    favorited = []\n",
    "    favorite_count = []\n",
    "    for d in list(df['raw_value']):\n",
    "        created_at.append(d['legacy']['created_at'])\n",
    "        user_id_str.append(d['legacy']['user_id_str'])\n",
    "        id_str.append(d['legacy']['id_str'])\n",
    "        lang.append(d['legacy']['lang'])\n",
    "        location.append(d['core']['user_results']['result']['legacy']['location'])\n",
    "        description.append(d['core']['user_results']['result']['legacy']['description'])\n",
    "        full_text.append(d['legacy']['full_text'])\n",
    "        user_screen_name.append(d['core']['user_results']['result']['legacy']['screen_name'])\n",
    "        user_name.append(d['core']['user_results']['result']['legacy']['name'])\n",
    "        followers_count.append(d['core']['user_results']['result']['legacy']['followers_count'])\n",
    "        normal_followers_count.append(d['core']['user_results']['result']['legacy']['normal_followers_count'])\n",
    "        fast_followers_count.append(d['core']['user_results']['result']['legacy']['fast_followers_count'])\n",
    "        favourites_count.append(d['core']['user_results']['result']['legacy']['favourites_count'])\n",
    "        friends_count.append(d['core']['user_results']['result']['legacy']['friends_count'])\n",
    "        media_count.append(d['core']['user_results']['result']['legacy']['media_count'])\n",
    "        statuses_count.append(d['core']['user_results']['result']['legacy']['statuses_count'])\n",
    "        retweeted.append(d['legacy']['retweeted'])\n",
    "        retweet_count.append(d['legacy']['retweet_count'])\n",
    "        favorited.append(d['legacy']['favorited'])\n",
    "        favorite_count.append(d['legacy']['favorite_count'])\n",
    "    data['created_at'] = created_at\n",
    "    data['user_id_str'] = user_id_str\n",
    "    data['id_str'] = id_str\n",
    "    data['lang'] = lang\n",
    "    data['location'] = location\n",
    "    data['description'] = description\n",
    "    data['full_text'] = full_text\n",
    "    data['user_screen_name'] = user_screen_name\n",
    "    data['user_name'] = user_name\n",
    "    data['followers_count'] = followers_count\n",
    "    data['normal_followers_count'] = normal_followers_count\n",
    "    data['fast_followers_count'] = fast_followers_count\n",
    "    data['favourites_count'] = favourites_count\n",
    "    data['friends_count'] = friends_count\n",
    "    data['media_count'] = media_count\n",
    "    data['statuses_count'] = statuses_count\n",
    "    data['retweeted'] = retweeted\n",
    "    data['retweet_count'] = retweet_count\n",
    "    data['favorited'] = favorited\n",
    "    data['favorite_count'] = favorite_count\n",
    "    data.to_csv(i[:-3]+'.csv',index=False)\n",
    "    file_list_csv.append(i[:-3]+'.csv')"
   ]
  },
  {
   "cell_type": "code",
   "execution_count": 149,
   "id": "abca73bc",
   "metadata": {},
   "outputs": [
    {
     "name": "stdout",
     "output_type": "stream",
     "text": [
      "(10770, 20)\n",
      "-------------\n",
      "(14394, 20)\n",
      "-------------\n",
      "(4462, 20)\n",
      "-------------\n",
      "(6312, 20)\n",
      "-------------\n"
     ]
    }
   ],
   "source": [
    "for i in file_list_csv:\n",
    "    df = pd.read_csv(i)\n",
    "    print(df.shape)\n",
    "    print('-------------')"
   ]
  },
  {
   "cell_type": "code",
   "execution_count": null,
   "id": "a4a5da3d",
   "metadata": {},
   "outputs": [],
   "source": []
  }
 ],
 "metadata": {
  "kernelspec": {
   "display_name": "Python 3 (ipykernel)",
   "language": "python",
   "name": "python3"
  },
  "language_info": {
   "codemirror_mode": {
    "name": "ipython",
    "version": 3
   },
   "file_extension": ".py",
   "mimetype": "text/x-python",
   "name": "python",
   "nbconvert_exporter": "python",
   "pygments_lexer": "ipython3",
   "version": "3.9.13"
  }
 },
 "nbformat": 4,
 "nbformat_minor": 5
}
